{
 "cells": [
  {
   "cell_type": "code",
   "execution_count": 1,
   "id": "ccacd090-15f7-4739-bc58-433857308340",
   "metadata": {},
   "outputs": [],
   "source": [
    "import sqlite3\n",
    "\n",
    "# Connect to SQLite (creates sales_data.db if it doesn't exist)\n",
    "conn = sqlite3.connect(\"sales_data.db\")\n",
    "cursor = conn.cursor()"
   ]
  },
  {
   "cell_type": "code",
   "execution_count": 2,
   "id": "e9d4e335-b5f8-4c57-93c0-f507a4ebc3c2",
   "metadata": {},
   "outputs": [
    {
     "data": {
      "text/plain": [
       "<sqlite3.Cursor at 0x15d0ee0d5c0>"
      ]
     },
     "execution_count": 2,
     "metadata": {},
     "output_type": "execute_result"
    }
   ],
   "source": [
    "# Create the sales table\n",
    "cursor.execute(\"\"\"\n",
    "CREATE TABLE IF NOT EXISTS sales (\n",
    "    product TEXT,\n",
    "    quantity INTEGER,\n",
    "    price REAL\n",
    ")\n",
    "\"\"\")"
   ]
  },
  {
   "cell_type": "code",
   "execution_count": 4,
   "id": "b04304fa-e7ab-40c9-b05b-7abfa34b338a",
   "metadata": {},
   "outputs": [
    {
     "name": "stdout",
     "output_type": "stream",
     "text": [
      "Database created with sample data!\n"
     ]
    }
   ],
   "source": [
    "# Insert some sample data\n",
    "sample_data = [\n",
    "    (\"Product A\", 10, 15.0),\n",
    "    (\"Product B\", 5, 20.0),\n",
    "    (\"Product C\", 8, 12.5),\n",
    "    (\"Product A\", 4, 15.0),\n",
    "    (\"Product B\", 7, 20.0),\n",
    "    (\"Product C\", 3, 12.5),\n",
    "    (\"Product A\", 2, 28.0), \n",
    "    (\"Product B\", 8, 22.0),\n",
    "    (\"Product C\", 7, 19.0)\n",
    "]\n",
    "\n",
    "cursor.executemany(\"INSERT INTO sales VALUES (?, ?, ?)\", sample_data)\n",
    "\n",
    "conn.commit()\n",
    "conn.close()\n",
    "\n",
    "print(\"Database created with sample data!\")"
   ]
  },
  {
   "cell_type": "code",
   "execution_count": 5,
   "id": "035772df-0350-4ff9-a373-495fd1aafe87",
   "metadata": {},
   "outputs": [],
   "source": [
    "import pandas as pd\n",
    "import matplotlib.pyplot as plt\n",
    "\n",
    "# Connect to DB\n",
    "conn = sqlite3.connect(\"sales_data.db\")"
   ]
  },
  {
   "cell_type": "code",
   "execution_count": 6,
   "id": "fdff9768-3589-418a-bfa8-6247d0c20591",
   "metadata": {},
   "outputs": [],
   "source": [
    "# SQL query to get total quantity and revenue per product\n",
    "query = \"\"\"\n",
    "SELECT \n",
    "    product, \n",
    "    SUM(quantity) AS total_qty, \n",
    "    SUM(quantity * price) AS revenue\n",
    "FROM sales\n",
    "GROUP BY product\n",
    "\"\"\""
   ]
  },
  {
   "cell_type": "code",
   "execution_count": 7,
   "id": "1ce6756d-1e76-45a9-b832-0bb747c22ec3",
   "metadata": {},
   "outputs": [],
   "source": [
    "# Load data into pandas DataFrame\n",
    "df = pd.read_sql_query(query, conn)\n",
    "conn.close()"
   ]
  },
  {
   "cell_type": "code",
   "execution_count": 8,
   "id": "f85fbdf6-9cb8-4caf-9b35-b0fbd5aaa264",
   "metadata": {},
   "outputs": [
    {
     "name": "stdout",
     "output_type": "stream",
     "text": [
      "Sales Summary:\n",
      "     product  total_qty  revenue\n",
      "0  Product A         30    476.0\n",
      "1  Product B         32    656.0\n",
      "2  Product C         29    408.0\n"
     ]
    }
   ],
   "source": [
    "# Display results\n",
    "print(\"Sales Summary:\")\n",
    "print(df)"
   ]
  },
  {
   "cell_type": "code",
   "execution_count": 9,
   "id": "f7f0dfcc-b03e-4266-876f-bd26ea75f153",
   "metadata": {},
   "outputs": [
    {
     "data": {
      "image/png": "[encoded data removed]",
      "text/plain": [
       "<Figure size 640x480 with 1 Axes>"
      ]
     },
     "metadata": {},
     "output_type": "display_data"
    }
   ],
   "source": [
    "# Plot bar chart\n",
    "df.plot(kind='bar', x='product', y='revenue', legend=False)\n",
    "plt.title(\"Revenue by Product\")\n",
    "plt.ylabel(\"Revenue\")\n",
    "plt.xlabel(\"Product\")\n",
    "plt.tight_layout()\n",
    "plt.savefig(\"sales_chart.png\")\n",
    "plt.show()"
   ]
  },
  {
   "cell_type": "code",
   "execution_count": null,
   "id": "ff451505-40f8-4256-b3a5-c0c7dcc567fd",
   "metadata": {},
   "outputs": [],
   "source": []
  }
 ],
 "metadata": {
  "kernelspec": {
   "display_name": "Python (Python313)",
   "language": "python",
   "name": "python313"
  },
  "language_info": {
   "codemirror_mode": {
    "name": "ipython",
    "version": 3
   },
   "file_extension": ".py",
   "mimetype": "text/x-python",
   "name": "python",
   "nbconvert_exporter": "python",
   "pygments_lexer": "ipython3",
   "version": "3.12.2"
  }
 },
 "nbformat": 4,
 "nbformat_minor": 5
}
